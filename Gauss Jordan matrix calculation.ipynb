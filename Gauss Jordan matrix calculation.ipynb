{
 "cells": [
  {
   "cell_type": "code",
   "execution_count": null,
   "id": "d159399c",
   "metadata": {},
   "outputs": [],
   "source": [
    "#code by: Andrea Papademetriou\n",
    "#link: https://github.com/andreapaps/Gauss_Jordan_Elimination\n",
    "#Gauss Jordan Elimination with n x n matrices \n",
    "\n",
    "import numpy as np\n",
    "\n",
    "\n",
    "A = np.array([[1.0,4.3,2,1,5.6],[3.2,0,1,4,5.0],[1.0,3,2,2,5.1],\n",
    "              [4.0,1,5,7,13],[4,2,1,2,5.0]])\n",
    "B = np.array([1.0,2.0,3.0,4.0,5.0])\n",
    "             \n",
    "print(A,B,'^T','\\n')\n",
    "for i in range(len(A)-1):          # LOWER TRIANGLE gets zeros\n",
    "    for j in range(len(A)):\n",
    "        if j > i:\n",
    "            k = (A[j][i]/A[i][i])\n",
    "            A[j] = A[j] - k*A[i]\n",
    "            B[j] = B[j] - k*B[i]\n",
    "\n",
    "print(A, B,'^T','\\n')\n",
    "reverse = list(range(len(A)))[::-1]\n",
    "\n",
    "\n",
    "\n",
    "for m in reverse:                 #Upper Triangle gets zeros (Diagonal intact)\n",
    "    for n in reverse:\n",
    "        if m > n:\n",
    "            k = (A[n][m]/A[m][m])\n",
    "            A[n] = A[n] - k*A[m]\n",
    "            B[n] = B[n] - k*B[m]\n",
    "            \n",
    "print(A,B,'^T','\\n')\n",
    "for p in range(len(A)):\n",
    "    print(f'x{p} = {B[p]/A[p][p]}')"
   ]
  },
  {
   "cell_type": "code",
   "execution_count": 3,
   "id": "f189562e",
   "metadata": {},
   "outputs": [],
   "source": [
    "def eliminasigauss():\n",
    "    while True:\n",
    "        try:\n",
    "            namafile = input(\"Masukkan nama file matrix, file txt: \")\n",
    "            with open(namafile, \"r\") as file:\n",
    "                data = file.readlines()\n",
    "            break\n",
    "        except FileNotFoundError:\n",
    "            print(\"File tidak ditemukan. Silakan coba lagi.\")\n",
    "    A = []\n",
    "    B = []\n",
    "    for i in range(len(data)):\n",
    "        if i < len(data) - 1:\n",
    "            A.append([float(x) for x in data[i].split()])\n",
    "        else:\n",
    "            B = [float(x) for x in data[i].split()]\n",
    "    if len(A) < 2:\n",
    "        print(\"Matriks terlalu kecil\")\n",
    "    if len(A) > 10:\n",
    "        print(\"Matriks terlalu besar.\")\n",
    "        return\n",
    "    if len(A) != len(A[0]):\n",
    "        print(\"Ordo matriks harus sama nxn.\")\n",
    "        return\n",
    "    for i in range(len(A) - 1):\n",
    "        for j in range(i + 1, len(A)):\n",
    "            k = A[j][i] / A[i][i]\n",
    "            for l in range(len(A[i])):\n",
    "                A[j][l] -= k * A[i][l]\n",
    "            B[j] -= k * B[i]\n",
    "    for i in range(len(A) - 1, -1, -1):\n",
    "        for j in range(i - 1, -1, -1):\n",
    "            k = A[j][i] / A[i][i]\n",
    "            B[j] -= k * B[i]\n",
    "            A[j][i] = 0\n",
    "    for i in range(len(A)):\n",
    "        B[i] /= A[i][i]\n",
    "        A[i][i] = 1\n",
    "    for i in range(len(A)):\n",
    "        print(f'x{i+1} = {B[i]}')"
   ]
  },
  {
   "cell_type": "code",
   "execution_count": 4,
   "id": "d238b986",
   "metadata": {},
   "outputs": [
    {
     "name": "stdout",
     "output_type": "stream",
     "text": [
      "Masukkan nama file matrix, file txt: matrix7.txt\n",
      "x1 = -0.014265800422135072\n",
      "x2 = 0.11621915078890019\n",
      "x3 = 0.6373455075808345\n",
      "x4 = 0.03066376644365607\n",
      "x5 = -0.15788059155949097\n",
      "x6 = 0.5769604277231702\n",
      "x7 = -0.4161808076428283\n"
     ]
    }
   ],
   "source": [
    "eliminasigauss()"
   ]
  }
 ],
 "metadata": {
  "kernelspec": {
   "display_name": "Python 3",
   "language": "python",
   "name": "python3"
  },
  "language_info": {
   "codemirror_mode": {
    "name": "ipython",
    "version": 3
   },
   "file_extension": ".py",
   "mimetype": "text/x-python",
   "name": "python",
   "nbconvert_exporter": "python",
   "pygments_lexer": "ipython3",
   "version": "3.8.8"
  }
 },
 "nbformat": 4,
 "nbformat_minor": 5
}
